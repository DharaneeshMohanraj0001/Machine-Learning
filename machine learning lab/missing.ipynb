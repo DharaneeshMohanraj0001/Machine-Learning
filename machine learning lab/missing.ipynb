{
 "cells": [
  {
   "cell_type": "code",
   "execution_count": 11,
   "id": "0b8cb889-5b3a-4f67-9dfa-8fbaf273a7dc",
   "metadata": {},
   "outputs": [],
   "source": [
    "import pandas as pd\n",
    "import numpy as np"
   ]
  },
  {
   "cell_type": "code",
   "execution_count": 22,
   "id": "6f79599a-112e-4f7d-9eb3-786f660dbdc1",
   "metadata": {},
   "outputs": [
    {
     "name": "stdout",
     "output_type": "stream",
     "text": [
      "        one       two     three\n",
      "a  0.679799  0.671591  0.056783\n",
      "c  0.268413  0.526760  0.968305\n",
      "e  0.475654  0.730635  0.298795\n",
      "f  0.361940  0.337531  0.334069\n",
      "g  0.435583  0.990933  0.910107\n"
     ]
    }
   ],
   "source": [
    "df = pd.DataFrame(np.random.rand(5,3), index = ['a','c','e','f','g'], columns=['one','two','three'])\n",
    "print(df)"
   ]
  },
  {
   "cell_type": "code",
   "execution_count": 25,
   "id": "1d43adb5-57c8-4adc-ba2f-2cac2d4c40bd",
   "metadata": {},
   "outputs": [],
   "source": [
    "df = df.reindex(['a','b','c','d','e','f','g','h'])"
   ]
  },
  {
   "cell_type": "code",
   "execution_count": 26,
   "id": "9740a5da-168d-44e4-a57b-c58330d742f6",
   "metadata": {},
   "outputs": [
    {
     "name": "stdout",
     "output_type": "stream",
     "text": [
      "        one       two     three\n",
      "a  0.679799  0.671591  0.056783\n",
      "b       NaN       NaN       NaN\n",
      "c  0.268413  0.526760  0.968305\n",
      "d       NaN       NaN       NaN\n",
      "e  0.475654  0.730635  0.298795\n",
      "f  0.361940  0.337531  0.334069\n",
      "g  0.435583  0.990933  0.910107\n",
      "h       NaN       NaN       NaN\n"
     ]
    }
   ],
   "source": [
    "print(df)"
   ]
  },
  {
   "cell_type": "code",
   "execution_count": 27,
   "id": "f312d948-fd36-44d4-9888-98d55d5d103e",
   "metadata": {},
   "outputs": [
    {
     "name": "stdout",
     "output_type": "stream",
     "text": [
      "a    False\n",
      "b     True\n",
      "c    False\n",
      "d     True\n",
      "e    False\n",
      "f    False\n",
      "g    False\n",
      "h     True\n",
      "dtype: bool\n"
     ]
    }
   ],
   "source": [
    "print(df['one']. isnull() & df['two'].isnull())"
   ]
  },
  {
   "cell_type": "code",
   "execution_count": 28,
   "id": "219af03f-db85-4f54-a12b-fe190792eb9a",
   "metadata": {},
   "outputs": [
    {
     "name": "stdout",
     "output_type": "stream",
     "text": [
      "a     True\n",
      "b    False\n",
      "c     True\n",
      "d    False\n",
      "e     True\n",
      "f     True\n",
      "g     True\n",
      "h    False\n",
      "dtype: bool\n"
     ]
    }
   ],
   "source": [
    "print(df['one'].notnull() & df['two'].notnull())"
   ]
  },
  {
   "cell_type": "code",
   "execution_count": 29,
   "id": "a1799ac9-9b60-4823-b7e6-547aefd29560",
   "metadata": {},
   "outputs": [
    {
     "name": "stdout",
     "output_type": "stream",
     "text": [
      "a     0.679799\n",
      "b    10.000000\n",
      "c     0.268413\n",
      "d    10.000000\n",
      "e     0.475654\n",
      "f     0.361940\n",
      "g     0.435583\n",
      "h    10.000000\n",
      "Name: one, dtype: float64\n"
     ]
    }
   ],
   "source": [
    "print(df['one'].fillna(10))"
   ]
  },
  {
   "cell_type": "code",
   "execution_count": 30,
   "id": "dbbb8ae6-3874-45b7-a27a-82bc9b65881c",
   "metadata": {},
   "outputs": [
    {
     "name": "stdout",
     "output_type": "stream",
     "text": [
      "a    0.679799\n",
      "b    0.268413\n",
      "c    0.268413\n",
      "d    0.475654\n",
      "e    0.475654\n",
      "f    0.361940\n",
      "g    0.435583\n",
      "h         NaN\n",
      "Name: one, dtype: float64\n"
     ]
    }
   ],
   "source": [
    "print(df['one'].bfill())"
   ]
  },
  {
   "cell_type": "code",
   "execution_count": 42,
   "id": "1ef5ffcf-9b55-412e-a9f6-afedb0c8ff7d",
   "metadata": {},
   "outputs": [],
   "source": [
    "df = pd.DataFrame({'one':[10,20,30,40,50,2000],'two':[1000,0,30,40,50,60]})"
   ]
  },
  {
   "cell_type": "code",
   "execution_count": 43,
   "id": "ba43823d-864c-49e2-a48a-e3c0aeef10f9",
   "metadata": {},
   "outputs": [
    {
     "name": "stdout",
     "output_type": "stream",
     "text": [
      "    one   two\n",
      "0    10  1000\n",
      "1    20     0\n",
      "2    30    30\n",
      "3    40    40\n",
      "4    50    50\n",
      "5  2000    60\n"
     ]
    }
   ],
   "source": [
    "print(df)"
   ]
  },
  {
   "cell_type": "code",
   "execution_count": 44,
   "id": "00c46a4c-3637-41a8-bf00-ec73e21c8243",
   "metadata": {},
   "outputs": [
    {
     "name": "stdout",
     "output_type": "stream",
     "text": [
      "   one  two\n",
      "0   10   40\n",
      "1   20    0\n",
      "2   30   30\n",
      "3   40   40\n",
      "4   50   50\n",
      "5   30   60\n"
     ]
    }
   ],
   "source": [
    "print(df.replace({1000:40,2000:30}))"
   ]
  },
  {
   "cell_type": "code",
   "execution_count": null,
   "id": "335a9b21-e547-4b3e-aad6-0f82acfe7487",
   "metadata": {},
   "outputs": [],
   "source": []
  }
 ],
 "metadata": {
  "kernelspec": {
   "display_name": "Python 3 (ipykernel)",
   "language": "python",
   "name": "python3"
  },
  "language_info": {
   "codemirror_mode": {
    "name": "ipython",
    "version": 3
   },
   "file_extension": ".py",
   "mimetype": "text/x-python",
   "name": "python",
   "nbconvert_exporter": "python",
   "pygments_lexer": "ipython3",
   "version": "3.12.7"
  }
 },
 "nbformat": 4,
 "nbformat_minor": 5
}

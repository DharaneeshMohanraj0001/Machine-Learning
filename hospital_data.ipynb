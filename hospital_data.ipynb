{
 "cells": [
  {
   "cell_type": "code",
   "execution_count": 1,
   "id": "bb581139-f881-4f53-a832-47c5e4148500",
   "metadata": {},
   "outputs": [
    {
     "name": "stdout",
     "output_type": "stream",
     "text": [
      "CSV file created!\n"
     ]
    }
   ],
   "source": [
    "import pandas as pd\n",
    "\n",
    "data = {\n",
    "    \"PatientID\": [1,2,3,4,5,6,7,8,9,10],\n",
    "    \"Age\": [25,35,45,50,28,40,60,30,55,38],\n",
    "    \"BloodPressure\": [120,140,130,150,118,135,160,125,145,132],\n",
    "    \"Cholesterol\": [180,200,195,210,170,190,220,185,205,198],\n",
    "    \"Diabetes\": [\"No\",\"Yes\",\"No\",\"Yes\",\"No\",\"Yes\",\"Yes\",\"No\",\"Yes\",\"No\"],\n",
    "    \"Smoker\": [\"No\",\"No\",\"Yes\",\"Yes\",\"No\",\"No\",\"Yes\",\"No\",\"Yes\",\"Yes\"],\n",
    "    \"Disease\": [\"No\",\"Yes\",\"Yes\",\"Yes\",\"No\",\"Yes\",\"Yes\",\"No\",\"Yes\",\"No\"]\n",
    "}\n",
    "\n",
    "df = pd.DataFrame(data)\n",
    "df.to_csv(\"hospital_data.csv\", index=False)\n",
    "print(\"CSV file created!\")\n"
   ]
  },
  {
   "cell_type": "code",
   "execution_count": null,
   "id": "36798cc7-6d41-4b73-88af-c99efdcb05d2",
   "metadata": {},
   "outputs": [],
   "source": []
  }
 ],
 "metadata": {
  "kernelspec": {
   "display_name": "Python 3 (ipykernel)",
   "language": "python",
   "name": "python3"
  },
  "language_info": {
   "codemirror_mode": {
    "name": "ipython",
    "version": 3
   },
   "file_extension": ".py",
   "mimetype": "text/x-python",
   "name": "python",
   "nbconvert_exporter": "python",
   "pygments_lexer": "ipython3",
   "version": "3.13.5"
  }
 },
 "nbformat": 4,
 "nbformat_minor": 5
}

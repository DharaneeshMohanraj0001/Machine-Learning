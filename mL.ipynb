{
 "cells": [
  {
   "cell_type": "code",
   "execution_count": 6,
   "id": "6671ae91-ca1e-404d-b8bc-7214fbed901e",
   "metadata": {},
   "outputs": [
    {
     "name": "stdout",
     "output_type": "stream",
     "text": [
      "   PatientID  Age  BloodPressure  Cholesterol Diabetes Smoker Disease\n",
      "0          1   25            120          180       No     No      No\n",
      "1          2   35            140          200      Yes     No     Yes\n",
      "2          3   45            130          195       No    Yes     Yes\n",
      "3          4   50            150          210      Yes    Yes     Yes\n",
      "4          5   28            118          170       No     No      No\n",
      "Accuracy: 0.75\n"
     ]
    }
   ],
   "source": [
    "import pandas as pd\n",
    "from sklearn.model_selection import train_test_split\n",
    "from sklearn.tree import DecisionTreeClassifier, plot_tree\n",
    "import matplotlib.pyplot as plt\n",
    "\n",
    "df = pd.read_csv(\"hospital_data.csv\")\n",
    "print(df.head())\n",
    "\n",
    "df[\"Diabetes\"] = df[\"Diabetes\"].map({\"No\":0, \"Yes\":1})\n",
    "df[\"Smoker\"] = df[\"Smoker\"].map({\"No\":0, \"Yes\":1})\n",
    "df[\"Disease\"] = df[\"Disease\"].map({\"No\":0, \"Yes\":1})\n",
    "\n",
    "X = df[[\"Age\", \"BloodPressure\", \"Cholesterol\", \"Diabetes\", \"Smoker\"]]\n",
    "y = df[\"Disease\"]\n",
    "\n",
    "X_train, X_test, y_train, y_test = train_test_split(X, y, test_size=0.40, random_state=0)\n",
    "\n",
    "\n",
    "cl = DecisionTreeClassifier(criterion=\"entropy\", random_state=40)\n",
    "cl.fit(X_train, y_train)\n",
    "\n",
    "\n",
    "print(\"Accuracy:\", clf.score(X_test, y_test))\n",
    "\n",
    "\n"
   ]
  },
  {
   "cell_type": "code",
   "execution_count": null,
   "id": "76f2b0ce-cfed-42b4-b1e8-505dc80438d1",
   "metadata": {},
   "outputs": [],
   "source": []
  }
 ],
 "metadata": {
  "kernelspec": {
   "display_name": "Python 3 (ipykernel)",
   "language": "python",
   "name": "python3"
  },
  "language_info": {
   "codemirror_mode": {
    "name": "ipython",
    "version": 3
   },
   "file_extension": ".py",
   "mimetype": "text/x-python",
   "name": "python",
   "nbconvert_exporter": "python",
   "pygments_lexer": "ipython3",
   "version": "3.13.5"
  }
 },
 "nbformat": 4,
 "nbformat_minor": 5
}
